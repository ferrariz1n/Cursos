{
 "cells": [
  {
   "cell_type": "code",
   "execution_count": 2,
   "metadata": {
    "vscode": {
     "languageId": "r"
    }
   },
   "outputs": [
    {
     "name": "stdout",
     "output_type": "stream",
     "text": [
      "[1] \"A menina é mais velha\"\n"
     ]
    }
   ],
   "source": [
    "Ana = 8L #L para forçar como interiro\n",
    "Paulo = 12L\n",
    "\n",
    "if(Ana<Paulo){\n",
    "  print(\"A menina é mais velha\")\n",
    "}else{\n",
    "  print(\"O menino é mais velho\")\n",
    "}"
   ]
  }
 ],
 "metadata": {
  "kernelspec": {
   "display_name": "R",
   "language": "R",
   "name": "ir"
  },
  "language_info": {
   "codemirror_mode": "r",
   "file_extension": ".r",
   "mimetype": "text/x-r-source",
   "name": "R",
   "pygments_lexer": "r",
   "version": "4.4.2"
  }
 },
 "nbformat": 4,
 "nbformat_minor": 2
}

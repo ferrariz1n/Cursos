{
 "cells": [
  {
   "cell_type": "markdown",
   "id": "d148a616",
   "metadata": {},
   "source": [
    "Instalação"
   ]
  },
  {
   "cell_type": "code",
   "execution_count": null,
   "id": "49edd9ab",
   "metadata": {},
   "outputs": [],
   "source": [
    "%pip install matplotlib"
   ]
  },
  {
   "cell_type": "markdown",
   "id": "63a85d16",
   "metadata": {},
   "source": [
    "Importar Biblioteca"
   ]
  },
  {
   "cell_type": "code",
   "execution_count": 9,
   "id": "4431cf3e",
   "metadata": {},
   "outputs": [],
   "source": [
    "import matplotlib"
   ]
  },
  {
   "cell_type": "code",
   "execution_count": 10,
   "id": "a040317a",
   "metadata": {},
   "outputs": [
    {
     "data": {
      "text/plain": [
       "'3.10.3'"
      ]
     },
     "execution_count": 10,
     "metadata": {},
     "output_type": "execute_result"
    }
   ],
   "source": [
    "matplotlib.__version__"
   ]
  },
  {
   "cell_type": "markdown",
   "id": "d63f6a6c",
   "metadata": {},
   "source": [
    "Instalação de versão especifica"
   ]
  },
  {
   "cell_type": "code",
   "execution_count": null,
   "id": "5d231bef",
   "metadata": {},
   "outputs": [],
   "source": [
    "%pip install matplotlib==3.6.2"
   ]
  },
  {
   "cell_type": "markdown",
   "id": "fb37f4c9",
   "metadata": {},
   "source": [
    "Importação de versão especifica"
   ]
  },
  {
   "cell_type": "code",
   "execution_count": null,
   "id": "d4430849",
   "metadata": {},
   "outputs": [],
   "source": [
    "import matplotlib==3.6.2"
   ]
  },
  {
   "cell_type": "code",
   "execution_count": null,
   "id": "112e3f30",
   "metadata": {},
   "outputs": [],
   "source": [
    "matplotlib.__version__"
   ]
  },
  {
   "cell_type": "markdown",
   "id": "6eda2613",
   "metadata": {},
   "source": [
    "Importar com apelido"
   ]
  },
  {
   "cell_type": "code",
   "execution_count": null,
   "id": "4ffca1fe",
   "metadata": {},
   "outputs": [],
   "source": [
    "import matplotlib.pyplot as plt"
   ]
  },
  {
   "cell_type": "markdown",
   "id": "768c8730",
   "metadata": {},
   "source": [
    "Desinstalar"
   ]
  },
  {
   "cell_type": "code",
   "execution_count": 6,
   "id": "f2caaba5",
   "metadata": {},
   "outputs": [
    {
     "name": "stdout",
     "output_type": "stream",
     "text": [
      "^C\n",
      "Note: you may need to restart the kernel to use updated packages.\n"
     ]
    }
   ],
   "source": [
    "%pip uninstall matplotlib"
   ]
  }
 ],
 "metadata": {
  "kernelspec": {
   "display_name": ".venv",
   "language": "python",
   "name": "python3"
  },
  "language_info": {
   "codemirror_mode": {
    "name": "ipython",
    "version": 3
   },
   "file_extension": ".py",
   "mimetype": "text/x-python",
   "name": "python",
   "nbconvert_exporter": "python",
   "pygments_lexer": "ipython3",
   "version": "3.13.4"
  }
 },
 "nbformat": 4,
 "nbformat_minor": 5
}

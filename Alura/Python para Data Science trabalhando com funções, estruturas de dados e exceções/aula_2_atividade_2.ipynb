{
 "cells": [
  {
   "cell_type": "markdown",
   "id": "93da224c",
   "metadata": {},
   "source": [
    "Built-in function"
   ]
  },
  {
   "cell_type": "code",
   "execution_count": 1,
   "id": "ca40fa5d",
   "metadata": {},
   "outputs": [
    {
     "data": {
      "text/plain": [
       "{'19 Trimestre': 8.5, '2° Trimestre': 9.5, '3º trimestre': 7}"
      ]
     },
     "execution_count": 1,
     "metadata": {},
     "output_type": "execute_result"
    }
   ],
   "source": [
    "#Notas do(a) estudante\n",
    "notas = {'19 Trimestre': 8.5, '2° Trimestre': 9.5, '3º trimestre': 7}\n",
    "notas"
   ]
  },
  {
   "cell_type": "code",
   "execution_count": 4,
   "id": "cc7047b1",
   "metadata": {},
   "outputs": [
    {
     "data": {
      "text/plain": [
       "25.0"
      ]
     },
     "execution_count": 4,
     "metadata": {},
     "output_type": "execute_result"
    }
   ],
   "source": [
    "#Soma\n",
    "soma = 0\n",
    "\n",
    "for nota in notas.values():\n",
    "    soma += nota\n",
    "soma"
   ]
  },
  {
   "cell_type": "code",
   "execution_count": 6,
   "id": "057a1cea",
   "metadata": {},
   "outputs": [
    {
     "data": {
      "text/plain": [
       "25.0"
      ]
     },
     "execution_count": 6,
     "metadata": {},
     "output_type": "execute_result"
    }
   ],
   "source": [
    "somatorio = (sum(notas.values()))\n",
    "somatorio"
   ]
  },
  {
   "cell_type": "code",
   "execution_count": 8,
   "id": "b94fa551",
   "metadata": {},
   "outputs": [
    {
     "data": {
      "text/plain": [
       "3"
      ]
     },
     "execution_count": 8,
     "metadata": {},
     "output_type": "execute_result"
    }
   ],
   "source": [
    "qtn_notas = len(notas)\n",
    "qtn_notas"
   ]
  },
  {
   "cell_type": "code",
   "execution_count": 10,
   "id": "24aa5b63",
   "metadata": {},
   "outputs": [
    {
     "data": {
      "text/plain": [
       "8.333333333333334"
      ]
     },
     "execution_count": 10,
     "metadata": {},
     "output_type": "execute_result"
    }
   ],
   "source": [
    "media = somatorio / qtn_notas\n",
    "media"
   ]
  },
  {
   "cell_type": "code",
   "execution_count": 12,
   "id": "b55f38e5",
   "metadata": {},
   "outputs": [
    {
     "data": {
      "text/plain": [
       "8.3"
      ]
     },
     "execution_count": 12,
     "metadata": {},
     "output_type": "execute_result"
    }
   ],
   "source": [
    "media = round(media, 1)\n",
    "media\n"
   ]
  },
  {
   "cell_type": "code",
   "execution_count": null,
   "id": "c0e0eb31",
   "metadata": {},
   "outputs": [],
   "source": []
  }
 ],
 "metadata": {
  "kernelspec": {
   "display_name": ".venv",
   "language": "python",
   "name": "python3"
  },
  "language_info": {
   "codemirror_mode": {
    "name": "ipython",
    "version": 3
   },
   "file_extension": ".py",
   "mimetype": "text/x-python",
   "name": "python",
   "nbconvert_exporter": "python",
   "pygments_lexer": "ipython3",
   "version": "3.13.4"
  }
 },
 "nbformat": 4,
 "nbformat_minor": 5
}
